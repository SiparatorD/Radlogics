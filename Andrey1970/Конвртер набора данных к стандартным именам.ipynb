{
 "cells": [
  {
   "cell_type": "code",
   "execution_count": 12,
   "metadata": {},
   "outputs": [],
   "source": [
    "import os\n",
    "import shutil as sh\n",
    "import zipfile as zf\n",
    "import matplotlib.pyplot as plt\n",
    "import numpy as np\n",
    "import pydicom as dicom"
   ]
  },
  {
   "cell_type": "code",
   "execution_count": 13,
   "metadata": {},
   "outputs": [],
   "source": [
    "DATA_SRC_PATH = 'C:\\\\Projects\\\\AIUniversity\\\\Segments'\n",
    "DATA_DST_PATH = 'C:\\\\Projects\\\\AIUniversity\\\\Dataset'"
   ]
  },
  {
   "cell_type": "code",
   "execution_count": 14,
   "metadata": {},
   "outputs": [],
   "source": [
    "def path_has_subdir(path):\n",
    "  items = [item for item in os.listdir(path) if os.path.isdir(f'{path}\\\\{item}')]\n",
    "  return len(items)!=0"
   ]
  },
  {
   "cell_type": "code",
   "execution_count": 26,
   "metadata": {},
   "outputs": [],
   "source": [
    "def get_dir_list(path: str, check = lambda item: True) -> list[str]:\n",
    "  items = [{'path': path, 'item': item, 'fullpath': f'{path}\\\\{item}'} \\\n",
    "           for item in os.listdir(path) if check(f'{path}\\\\{item}')]\n",
    "  return items\n"
   ]
  },
  {
   "cell_type": "code",
   "execution_count": 36,
   "metadata": {},
   "outputs": [],
   "source": [
    "def find_leaf_dir_list(path):\n",
    "  dirs = []\n",
    "  items = get_dir_list(path, lambda path: os.path.isdir(path))\n",
    "  for item in items:\n",
    "    if not path_has_subdir(item['fullpath']):\n",
    "      dirs.append(item)\n",
    "    else:\n",
    "      dirs += find_leaf_dir_list(item['fullpath'])\n",
    "  return dirs\n"
   ]
  },
  {
   "cell_type": "code",
   "execution_count": 79,
   "metadata": {},
   "outputs": [],
   "source": [
    "def get_dst_dir_name(path_dict):\n",
    "  items = get_dir_list(path_dict['fullpath'], \\\n",
    "                       lambda path: os.path.isfile(path) and '.dcm' in path)\n",
    "  if 'Segmentation' in path_dict['item']:\n",
    "    return 'Segmentation'\n",
    "  elif len(items)==1 and items[0]['item']=='1-1.dcm':\n",
    "    return 'Throwble'\n",
    "  elif len(items)>0:\n",
    "    return 'Source'\n",
    "  else:\n",
    "    return path_dict['item']"
   ]
  },
  {
   "cell_type": "code",
   "execution_count": 72,
   "metadata": {},
   "outputs": [],
   "source": [
    "def create_copy(path_dict, dst_path):\n",
    "  newpath = f'{dst_path}\\\\{get_dst_dir_name(path_dict)}'\n",
    "  os.makedirs(newpath)\n",
    "  items = get_dir_list(path_dict['fullpath'], lambda path: os.path.isfile(path))\n",
    "  for item in items:\n",
    "    sh.copy(item['fullpath'], f\"{newpath}\\\\{item['item']}\")\n",
    "  return newpath"
   ]
  },
  {
   "cell_type": "code",
   "execution_count": 81,
   "metadata": {},
   "outputs": [],
   "source": [
    "if os.path.exists(DATA_DST_PATH): sh.rmtree(DATA_DST_PATH)\n",
    "os.makedirs(DATA_DST_PATH)\n",
    "path_dict = get_dir_list(DATA_SRC_PATH, lambda item: os.path.isdir(item))\n",
    "for item in path_dict:\n",
    "  newpath = create_copy(item, DATA_DST_PATH)\n",
    "  paths = find_leaf_dir_list(item['fullpath'])\n",
    "  for path in paths:\n",
    "    create_copy(path, newpath)\n"
   ]
  }
 ],
 "metadata": {
  "kernelspec": {
   "display_name": ".venv",
   "language": "python",
   "name": "python3"
  },
  "language_info": {
   "codemirror_mode": {
    "name": "ipython",
    "version": 3
   },
   "file_extension": ".py",
   "mimetype": "text/x-python",
   "name": "python",
   "nbconvert_exporter": "python",
   "pygments_lexer": "ipython3",
   "version": "3.11.3"
  },
  "orig_nbformat": 4
 },
 "nbformat": 4,
 "nbformat_minor": 2
}
